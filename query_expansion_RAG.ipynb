{
 "cells": [
  {
   "cell_type": "code",
   "execution_count": 3,
   "metadata": {},
   "outputs": [],
   "source": [
    "from helper_utils import load_chroma, word_wrap\n",
    "from chromadb.utils.embedding_functions import SentenceTransformerEmbeddingFunction\n",
    "import const\n",
    "import json\n",
    "import requests"
   ]
  },
  {
   "cell_type": "code",
   "execution_count": 4,
   "metadata": {},
   "outputs": [
    {
     "name": "stderr",
     "output_type": "stream",
     "text": [
      "/home/zeus/miniconda3/envs/cloudspace/lib/python3.10/site-packages/sentence_transformers/cross_encoder/CrossEncoder.py:11: TqdmExperimentalWarning: Using `tqdm.autonotebook.tqdm` in notebook mode. Use `tqdm.tqdm` instead to force console mode (e.g. in jupyter console)\n",
      "  from tqdm.autonotebook import tqdm, trange\n"
     ]
    },
    {
     "data": {
      "text/plain": [
       "11566"
      ]
     },
     "execution_count": 4,
     "metadata": {},
     "output_type": "execute_result"
    }
   ],
   "source": [
    "embedding_function = SentenceTransformerEmbeddingFunction()\n",
    "\n",
    "chroma_collection = load_chroma(filename='/teamspace/studios/this_studio/ProjectGenAI/data/BOE-020_Codigo_de_Trafico_y_Seguridad_Vial.pdf', collection_name='boe_normativa_trafico', embedding_function=embedding_function)\n",
    "chroma_collection.count()"
   ]
  },
  {
   "cell_type": "code",
   "execution_count": 30,
   "metadata": {},
   "outputs": [],
   "source": [
    "original_query = \"Si no me paro a socorrer en caso de accidente, que me puede pasar?\""
   ]
  },
  {
   "cell_type": "markdown",
   "metadata": {},
   "source": [
    "## Basic retrieval"
   ]
  },
  {
   "cell_type": "code",
   "execution_count": 31,
   "metadata": {},
   "outputs": [],
   "source": [
    "results = chroma_collection.query(query_texts=[original_query], n_results=5)\n",
    "retrieved_documents = results['documents'][0]"
   ]
  },
  {
   "cell_type": "markdown",
   "metadata": {},
   "source": [
    "## Query expansion"
   ]
  },
  {
   "cell_type": "markdown",
   "metadata": {},
   "source": [
    "### Expansion generated"
   ]
  },
  {
   "cell_type": "code",
   "execution_count": 19,
   "metadata": {},
   "outputs": [
    {
     "name": "stdout",
     "output_type": "stream",
     "text": [
      "Según la normativa de tráfico de la Dirección General de Tráfico (DGT), como peatón no puedes circular por las autopistas, autovías, vías interurbanas y túneles, salvo que exista una señalización específica que lo permita. Es importante recordar que los peatones deben circular por las aceras, pasos de peatones y zonas habilitadas para ellos, respetando siempre las normas de tráfico y priorizando su seguridad.\n"
     ]
    }
   ],
   "source": [
    "# Function to expand users query witha hypothetical answer\n",
    "def augment_generated_query(query):\n",
    "    \n",
    "    # Authorization header for the API\n",
    "    headers = {\"Authorization\": f\"Bearer {const.API_KEYalberto}\"}\n",
    "    # URL for the API\n",
    "    url = \"https://api.edenai.run/v2/text/chat\"\n",
    "    \n",
    "    payload = {\n",
    "    \"providers\": \"openai\",\n",
    "    \"text\": query,\n",
    "    \"chatbot_global_action\": \"Eres un asistente experto en la normativa de tráfico de la Dirección General de Tráfico (DGT), el organismo \\\n",
    "                              un organismo autónomo del Gobierno de España dependiente del Ministerio del Interior responsable de la ejecución de la \\\n",
    "                              política vial en las vías de titularidad estatal de España.\"\n",
    "                \"Sugiere una respuesta de ejemplo a la pregunta realizada, algo como lo que podría encontrarse en la normativa de la DGT\",\n",
    "    \"previous_history\": [],\n",
    "    \"temperature\": 0.0,\n",
    "    \"max_tokens\": 150,\n",
    "    }\n",
    "\n",
    "    # Send the request to the API\n",
    "    response = requests.post(url, json=payload, headers=headers)\n",
    "    result = json.loads(response.text)\n",
    "    augmented_query = result['openai']['generated_text']\n",
    "    # augmented_queries = augmented_queries.split('\\n')\n",
    "    \n",
    "    return augmented_query\n",
    "\n",
    "hypothetical_answer = augment_generated_query(original_query)\n",
    "print(hypothetical_answer)\n",
    "joint_query = f\"{original_query} {hypothetical_answer}\"\n",
    "\n",
    "results = chroma_collection.query(query_texts=joint_query, n_results=5, include=['documents', 'embeddings'])\n",
    "\n",
    "# Final documents passed to the chatbot function\n",
    "retrieved_documents = results['documents'][0]"
   ]
  },
  {
   "cell_type": "markdown",
   "metadata": {},
   "source": [
    "### Expansion multiple queries"
   ]
  },
  {
   "cell_type": "code",
   "execution_count": 28,
   "metadata": {},
   "outputs": [
    {
     "name": "stdout",
     "output_type": "stream",
     "text": [
      "¿Cuál es el procedimiento a seguir al tener un accidente de tráfico? \n",
      "¿Qué información debo recopilar en caso de presenciar un accidente de tráfico? \n",
      "¿Cuál es la forma correcta de ayudar a las víctimas de un accidente de tráfico? \n",
      "¿Qué debo hacer si soy testigo de un accidente de tráfico pero no estoy involucrado en él? \n",
      "¿Cuál es la manera adecuada de alertar a los servicios de emergencia en caso de presenciar un accidente de tráfico?\n"
     ]
    },
    {
     "data": {
      "text/plain": [
       "'\\nfor i, documents in enumerate(retrieved_documents):\\n    print(f\"Query: {queries[i]}\")\\n    print(\\'\\')\\n    print(\"Results:\")\\n    for doc in documents:\\n        print(word_wrap(doc))\\n        print(\\'\\')\\n    print(\\'-\\'*100)\\n'"
      ]
     },
     "execution_count": 28,
     "metadata": {},
     "output_type": "execute_result"
    }
   ],
   "source": [
    "# Function that augments a query with multiple questions related to the original query\n",
    "def augment_multiple_query(query):\n",
    "    \n",
    "    # Authorization header for the API\n",
    "    headers = {\"Authorization\": f\"Bearer {const.API_KEYalberto}\"}\n",
    "    # URL for the API\n",
    "    url = \"https://api.edenai.run/v2/text/chat\"\n",
    "    \n",
    "    payload = {\n",
    "    \"providers\": \"openai\",\n",
    "    \"text\": query,\n",
    "    \"chatbot_global_action\": \"Eres un asistente experto en la normativa de tráfico de la Dirección General de Tráfico (DGT), el organismo \\\n",
    "                              un organismo autónomo del Gobierno de España dependiente del Ministerio del Interior responsable de la ejecución de la \\\n",
    "                              política vial en las vías de titularidad estatal de España.\"\n",
    "                    \"Sugiere hasta cinco preguntas adicionales relacionadas para ayudarles a encontrar la información que necesitan para la pregunta proporcionada.\"\n",
    "                    \"Sugiere solo preguntas cortas sin oraciones compuestas. Sugiere una variedad de preguntas que cubran diferentes aspectos del tema.\"\n",
    "                    \"Asegúrate de que sean preguntas completas y que estén relacionadas con la pregunta original.\"\n",
    "                    \"La salida debe ser una pregunta por línea. No numeres las preguntas.\",\n",
    "    \"previous_history\": [],\n",
    "    \"temperature\": 0.0,\n",
    "    \"max_tokens\": 150,\n",
    "    }\n",
    "\n",
    "    # Send the request to the API\n",
    "    response = requests.post(url, json=payload, headers=headers)\n",
    "    result = json.loads(response.text)\n",
    "    augmented_queries = result['openai']['generated_text']\n",
    "    augmented_queries = augmented_queries.split('\\n')\n",
    "    \n",
    "    return augmented_queries\n",
    "\n",
    "augmented_queries = augment_multiple_query(original_query)\n",
    "\n",
    "for query in augmented_queries:\n",
    "    print(query)\n",
    "\n",
    "queries = [original_query] + augmented_queries\n",
    "results = chroma_collection.query(query_texts=queries, n_results=3, include=['documents', 'embeddings'])\n",
    "retrieved_documents = results['documents']\n",
    "\n",
    "# Deduplicate the retrieved documents\n",
    "unique_documents = set()\n",
    "for documents in retrieved_documents:\n",
    "    for document in documents:\n",
    "        unique_documents.add(document)\n",
    "\n",
    "# Final documents passed to the chatbot function\n",
    "retrieved_documents = unique_documents\n",
    "\n",
    "'''\n",
    "for i, documents in enumerate(retrieved_documents):\n",
    "    print(f\"Query: {queries[i]}\")\n",
    "    print('')\n",
    "    print(\"Results:\")\n",
    "    for doc in documents:\n",
    "        print(word_wrap(doc))\n",
    "        print('')\n",
    "    print('-'*100)\n",
    "'''"
   ]
  },
  {
   "cell_type": "code",
   "execution_count": 23,
   "metadata": {},
   "outputs": [],
   "source": [
    "def chatbot(query,retrieved_documents):\n",
    "\n",
    "    information = \"\\n\\n\".join(retrieved_documents)\n",
    "    final_query = f\"Pregunta: {query} \\n Información: {information}\"\n",
    "\n",
    "    # Authorization header for the API\n",
    "    headers = {\"Authorization\": f\"Bearer {const.API_KEYalberto}\"}\n",
    "    # URL for the API\n",
    "    url = \"https://api.edenai.run/v2/text/chat\"\n",
    "\n",
    "    payload = {\n",
    "    \"providers\": \"openai\",\n",
    "    \"text\": final_query,\n",
    "    \"chatbot_global_action\": \"Eres un asistente experto en la normativa de tráfico de la Dirección General de Tráfico (DGT), el organismo \\\n",
    "                              un organismo autónomo del Gobierno de España dependiente del Ministerio del Interior responsable de la ejecución de la \\\n",
    "                              política vial en las vías de titularidad estatal de España.\"\n",
    "            \"Tu tarea es ayudar a los usuarios a comprender y responder preguntas sobre el contenido de la normativa de tráfico de la DGT. \"\n",
    "            \"Te proporcionaré la pregunta del usuario y la información relevante extraída de la normativa. \"\n",
    "            \"Responde a la pregunta del usuario utilizando ÚNICAMENTE la información proporcionada. \",\n",
    "    \"previous_history\": [],\n",
    "    \"temperature\": 0.0,\n",
    "    \"max_tokens\": 150,\n",
    "    }\n",
    "\n",
    "    # Send the request to the API\n",
    "    response = requests.post(url, json=payload, headers=headers)\n",
    "    result = json.loads(response.text)\n",
    "    final_response = result['openai']['generated_text']\n",
    "\n",
    "    return final_response"
   ]
  },
  {
   "cell_type": "code",
   "execution_count": 32,
   "metadata": {},
   "outputs": [
    {
     "name": "stdout",
     "output_type": "stream",
     "text": [
      "Respuesta: Según la normativa de tráfico de la DGT, si no te paras a socorrer en caso de accidente de circulación, podrías recibir una multa de hasta 30.000 euros y la retirada de puntos del carnet de conducir. Además, en caso de no prestar auxilio a los heridos, podrías ser sancionado con penas de prisión de hasta cuatro años. Es importante recordar que es un deber prestar ayuda en caso de accidente de tráfico.\n"
     ]
    }
   ],
   "source": [
    "answer = chatbot(original_query,retrieved_documents)\n",
    "print(answer)"
   ]
  }
 ],
 "metadata": {
  "language_info": {
   "name": "python"
  }
 },
 "nbformat": 4,
 "nbformat_minor": 2
}
