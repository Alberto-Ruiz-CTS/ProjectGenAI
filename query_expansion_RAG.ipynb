{
 "cells": [
  {
   "cell_type": "code",
   "execution_count": 1,
   "metadata": {},
   "outputs": [],
   "source": [
    "from utils import load_chroma_pdf, word_wrap\n",
    "from chromadb.utils.embedding_functions import SentenceTransformerEmbeddingFunction\n",
    "import const\n",
    "import json\n",
    "import requests"
   ]
  },
  {
   "cell_type": "code",
   "execution_count": 2,
   "metadata": {},
   "outputs": [
    {
     "data": {
      "text/plain": [
       "11566"
      ]
     },
     "execution_count": 2,
     "metadata": {},
     "output_type": "execute_result"
    }
   ],
   "source": [
    "embedding_function = SentenceTransformerEmbeddingFunction()\n",
    "\n",
    "chroma_collection = load_chroma_pdf(collection_name='boe_normativa_trafico', \n",
    "                                    persist_path='/teamspace/studios/this_studio/ProjectGenAI/data/chroma_databases')\n",
    "chroma_collection.count()"
   ]
  },
  {
   "cell_type": "code",
   "execution_count": 3,
   "metadata": {},
   "outputs": [],
   "source": [
    "original_query = \"Si no me paro a socorrer en caso de accidente, que me puede pasar?\""
   ]
  },
  {
   "cell_type": "markdown",
   "metadata": {},
   "source": [
    "## Basic retrieval"
   ]
  },
  {
   "cell_type": "code",
   "execution_count": 4,
   "metadata": {},
   "outputs": [],
   "source": [
    "results = chroma_collection.query(query_texts=[original_query], n_results=5)\n",
    "retrieved_documents = results['documents'][0]"
   ]
  },
  {
   "cell_type": "markdown",
   "metadata": {},
   "source": [
    "## Query expansion"
   ]
  },
  {
   "cell_type": "markdown",
   "metadata": {},
   "source": [
    "### Expansion generated"
   ]
  },
  {
   "cell_type": "code",
   "execution_count": 19,
   "metadata": {},
   "outputs": [
    {
     "name": "stdout",
     "output_type": "stream",
     "text": [
      "Según la normativa de tráfico de la Dirección General de Tráfico (DGT), como peatón no puedes circular por las autopistas, autovías, vías interurbanas y túneles, salvo que exista una señalización específica que lo permita. Es importante recordar que los peatones deben circular por las aceras, pasos de peatones y zonas habilitadas para ellos, respetando siempre las normas de tráfico y priorizando su seguridad.\n"
     ]
    }
   ],
   "source": [
    "hypothetical_answer = augment_generated_query(original_query)\n",
    "print(hypothetical_answer)\n",
    "joint_query = f\"{original_query} {hypothetical_answer}\"\n",
    "\n",
    "results = chroma_collection.query(query_texts=joint_query, n_results=5, include=['documents', 'embeddings'])\n",
    "\n",
    "# Final documents passed to the chatbot function\n",
    "retrieved_documents = results['documents'][0]"
   ]
  },
  {
   "cell_type": "markdown",
   "metadata": {},
   "source": [
    "### Expansion multiple queries"
   ]
  },
  {
   "cell_type": "code",
   "execution_count": 28,
   "metadata": {},
   "outputs": [
    {
     "name": "stdout",
     "output_type": "stream",
     "text": [
      "¿Cuál es el procedimiento a seguir al tener un accidente de tráfico? \n",
      "¿Qué información debo recopilar en caso de presenciar un accidente de tráfico? \n",
      "¿Cuál es la forma correcta de ayudar a las víctimas de un accidente de tráfico? \n",
      "¿Qué debo hacer si soy testigo de un accidente de tráfico pero no estoy involucrado en él? \n",
      "¿Cuál es la manera adecuada de alertar a los servicios de emergencia en caso de presenciar un accidente de tráfico?\n"
     ]
    },
    {
     "data": {
      "text/plain": [
       "'\\nfor i, documents in enumerate(retrieved_documents):\\n    print(f\"Query: {queries[i]}\")\\n    print(\\'\\')\\n    print(\"Results:\")\\n    for doc in documents:\\n        print(word_wrap(doc))\\n        print(\\'\\')\\n    print(\\'-\\'*100)\\n'"
      ]
     },
     "execution_count": 28,
     "metadata": {},
     "output_type": "execute_result"
    }
   ],
   "source": [
    "augmented_queries = augment_multiple_query(original_query)\n",
    "\n",
    "'''\n",
    "for query in augmented_queries:\n",
    "    print(query)\n",
    "'''\n",
    "\n",
    "queries = [original_query] + augmented_queries\n",
    "results = chroma_collection.query(query_texts=queries, n_results=5, include=['documents', 'embeddings'])\n",
    "retrieved_documents = results['documents']\n",
    "\n",
    "# Deduplicate the retrieved documents\n",
    "unique_documents = set()\n",
    "for documents in retrieved_documents:\n",
    "    for document in documents:\n",
    "        unique_documents.add(document)\n",
    "\n",
    "# Final documents passed to the chatbot function\n",
    "retrieved_documents = unique_documents\n",
    "\n",
    "'''\n",
    "for i, documents in enumerate(retrieved_documents):\n",
    "    print(f\"Query: {queries[i]}\")\n",
    "    print('')\n",
    "    print(\"Results:\")\n",
    "    for doc in documents:\n",
    "        print(word_wrap(doc))\n",
    "        print('')\n",
    "    print('-'*100)\n",
    "'''"
   ]
  },
  {
   "cell_type": "code",
   "execution_count": 5,
   "metadata": {},
   "outputs": [
    {
     "ename": "NameError",
     "evalue": "name 'chatbot' is not defined",
     "output_type": "error",
     "traceback": [
      "\u001b[0;31m---------------------------------------------------------------------------\u001b[0m",
      "\u001b[0;31mNameError\u001b[0m                                 Traceback (most recent call last)",
      "Cell \u001b[0;32mIn[5], line 1\u001b[0m\n\u001b[0;32m----> 1\u001b[0m answer \u001b[38;5;241m=\u001b[39m \u001b[43mchatbot\u001b[49m(original_query,retrieved_documents)\n\u001b[1;32m      2\u001b[0m \u001b[38;5;28mprint\u001b[39m(answer)\n",
      "\u001b[0;31mNameError\u001b[0m: name 'chatbot' is not defined"
     ]
    }
   ],
   "source": [
    "answer = chatbot(original_query,retrieved_documents)\n",
    "print(answer)"
   ]
  }
 ],
 "metadata": {
  "language_info": {
   "name": "python"
  }
 },
 "nbformat": 4,
 "nbformat_minor": 2
}
